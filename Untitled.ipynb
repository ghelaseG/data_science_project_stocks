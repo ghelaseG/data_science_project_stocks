{
 "cells": [
  {
   "cell_type": "code",
   "execution_count": 3,
   "id": "100b615e",
   "metadata": {},
   "outputs": [],
   "source": [
    "import pandas as pd\n",
    "'''\n",
    "brew install phantomjs\n",
    "or\n",
    "brew tap homebrew/cask\n",
    "brew cask install chromedriver\n",
    "'''\n",
    "# from selenium import webdriver\n",
    "from selenium.webdriver.chrome.webdriver import WebDriver\n",
    "\n",
    "def get_etf_holdings(etf_symbol):\n",
    "    '''\n",
    "    etf_symbol: str\n",
    "    \n",
    "    return: pd.DataFrame\n",
    "    '''\n",
    "    url = 'https://www.barchart.com/stocks/quotes/{}/constituents?page=all'.format(\n",
    "        etf_symbol)\n",
    "\n",
    "    # Loads the ETF constituents page and reads the holdings table\n",
    "    browser = WebDriver() # webdriver.PhantomJS()\n",
    "    browser.get(url)\n",
    "    html = browser.page_source\n",
    "    soup = BeautifulSoup(html, 'html')\n",
    "    table = get_table(soup)\n",
    "\n",
    "    # Reads the holdings table line by line and appends each asset to a\n",
    "    # dictionary along with the holdings percentage\n",
    "    asset_dict = {}\n",
    "    for row in table.select('tr')[1:-1]:\n",
    "        try:\n",
    "            cells = row.select('td')\n",
    "            # print(row)\n",
    "            symbol = cells[0].get_text().strip()\n",
    "            # print(symbol)\n",
    "            name = cells[1].text.strip()\n",
    "            celltext = cells[2].get_text().strip()\n",
    "            percent = float(celltext.rstrip('%'))\n",
    "            shares = int(cells[3].text.strip().replace(',', ''))\n",
    "            if symbol != \"\" and percent != 0.0:\n",
    "                asset_dict[symbol] = {\n",
    "                    'name': name,\n",
    "                    'percent': percent,\n",
    "                    'shares': shares,\n",
    "                }\n",
    "        except BaseException as ex:\n",
    "            print(ex)\n",
    "    browser.quit()\n",
    "    return pd.DataFrame(asset_dict)"
   ]
  },
  {
   "cell_type": "code",
   "execution_count": 4,
   "id": "e2d03f33",
   "metadata": {},
   "outputs": [
    {
     "ename": "TypeError",
     "evalue": "get_etf_holdings() missing 1 required positional argument: 'etf_symbol'",
     "output_type": "error",
     "traceback": [
      "\u001b[0;31m---------------------------------------------------------------------------\u001b[0m",
      "\u001b[0;31mTypeError\u001b[0m                                 Traceback (most recent call last)",
      "\u001b[0;32m/var/folders/jn/ybrnypxx6250kfnl44ql77vr0000gn/T/ipykernel_32904/3062411969.py\u001b[0m in \u001b[0;36m<module>\u001b[0;34m\u001b[0m\n\u001b[0;32m----> 1\u001b[0;31m \u001b[0mget_etf_holdings\u001b[0m\u001b[0;34m(\u001b[0m\u001b[0;34m)\u001b[0m\u001b[0;34m\u001b[0m\u001b[0;34m\u001b[0m\u001b[0m\n\u001b[0m",
      "\u001b[0;31mTypeError\u001b[0m: get_etf_holdings() missing 1 required positional argument: 'etf_symbol'"
     ]
    }
   ],
   "source": [
    "get_etf_holdings()"
   ]
  },
  {
   "cell_type": "code",
   "execution_count": 7,
   "id": "419dbd59",
   "metadata": {},
   "outputs": [
    {
     "name": "stdout",
     "output_type": "stream",
     "text": [
      "Collecting sklearn\n",
      "  Downloading sklearn-0.0.post1.tar.gz (3.6 kB)\n",
      "  Preparing metadata (setup.py) ... \u001b[?25ldone\n",
      "\u001b[?25hBuilding wheels for collected packages: sklearn\n",
      "  Building wheel for sklearn (setup.py) ... \u001b[?25ldone\n",
      "\u001b[?25h  Created wheel for sklearn: filename=sklearn-0.0.post1-py3-none-any.whl size=2936 sha256=9c98800f41da7c322f36e2a367b3068b0a661fb26f7cf08def53a9e2995c8420\n",
      "  Stored in directory: /Users/georgeghelase/Library/Caches/pip/wheels/f8/e0/3d/9d0c2020c44a519b9f02ab4fa6d2a4a996c98d79ab2f569fa1\n",
      "Successfully built sklearn\n",
      "Installing collected packages: sklearn\n",
      "Successfully installed sklearn-0.0.post1\n",
      "Note: you may need to restart the kernel to use updated packages.\n"
     ]
    }
   ],
   "source": [
    "pip install sklearn"
   ]
  },
  {
   "cell_type": "code",
   "execution_count": null,
   "id": "57080302",
   "metadata": {},
   "outputs": [],
   "source": []
  }
 ],
 "metadata": {
  "kernelspec": {
   "display_name": "Python 3 (ipykernel)",
   "language": "python",
   "name": "python3"
  },
  "language_info": {
   "codemirror_mode": {
    "name": "ipython",
    "version": 3
   },
   "file_extension": ".py",
   "mimetype": "text/x-python",
   "name": "python",
   "nbconvert_exporter": "python",
   "pygments_lexer": "ipython3",
   "version": "3.9.13"
  }
 },
 "nbformat": 4,
 "nbformat_minor": 5
}
