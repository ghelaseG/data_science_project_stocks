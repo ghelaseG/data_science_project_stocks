{
 "cells": [
  {
   "cell_type": "markdown",
   "id": "9e3597dd",
   "metadata": {},
   "source": [
    "# from book Machine Learning and Data Science Blueprints for Finance From Building Trading Strategies to Robo-Advisors Using Python (Hariom Tatsat, Sahil Puri , Brad Lookabaugh).pdf"
   ]
  },
  {
   "cell_type": "markdown",
   "id": "c5e10adc",
   "metadata": {},
   "source": [
    "#### Function and modules for the supervised regression models"
   ]
  },
  {
   "cell_type": "code",
   "execution_count": 1,
   "id": "ffe8d57e",
   "metadata": {},
   "outputs": [],
   "source": [
    "from sklearn.linear_model import LinearRegression\n",
    "from sklearn.linear_model import Lasso\n",
    "from sklearn.linear_model import ElasticNet\n",
    "from sklearn.tree import DecisionTreeRegressor\n",
    "from sklearn.neighbors import KNeighborsRegressor\n",
    "from sklearn.svm import SVR\n",
    "from sklearn.ensemble import RandomForestRegressor\n",
    "from sklearn.ensemble import GradientBoostingRegressor\n",
    "from sklearn.ensemble import ExtraTreesRegressor\n",
    "from sklearn.ensemble import AdaBoostRegressor\n",
    "from sklearn.neural_network import MLPRegressor"
   ]
  },
  {
   "cell_type": "markdown",
   "id": "75ff1dd4",
   "metadata": {},
   "source": [
    "#### Function and modules for data analysis and model evaluation"
   ]
  },
  {
   "cell_type": "code",
   "execution_count": 2,
   "id": "ced5cb43",
   "metadata": {},
   "outputs": [],
   "source": [
    "from sklearn.model_selection import train_test_split\n",
    "from sklearn.model_selection import KFold\n",
    "from sklearn.model_selection import cross_val_score\n",
    "from sklearn.model_selection import GridSearchCV\n",
    "from sklearn.metrics import mean_squared_error\n",
    "from sklearn.feature_selection import SelectKBest\n",
    "from sklearn.feature_selection import chi2, f_regression"
   ]
  },
  {
   "cell_type": "markdown",
   "id": "2b4bda4e",
   "metadata": {},
   "source": [
    "#### Function and modules for deep learning models"
   ]
  },
  {
   "cell_type": "code",
   "execution_count": 3,
   "id": "42f75e3c",
   "metadata": {},
   "outputs": [
    {
     "name": "stderr",
     "output_type": "stream",
     "text": [
      "2022-11-11 20:18:34.255677: I tensorflow/core/platform/cpu_feature_guard.cc:193] This TensorFlow binary is optimized with oneAPI Deep Neural Network Library (oneDNN) to use the following CPU instructions in performance-critical operations:  AVX2 FMA\n",
      "To enable them in other operations, rebuild TensorFlow with the appropriate compiler flags.\n"
     ]
    }
   ],
   "source": [
    "from keras.models import Sequential\n",
    "from keras.layers import Dense\n",
    "from keras.optimizers import SGD\n",
    "from keras.layers import LSTM\n",
    "from keras.wrappers.scikit_learn import KerasRegressor"
   ]
  },
  {
   "cell_type": "markdown",
   "id": "9e2d108f",
   "metadata": {},
   "source": [
    "#### Function and modules for time series models"
   ]
  },
  {
   "cell_type": "code",
   "execution_count": 4,
   "id": "ee2f0974",
   "metadata": {},
   "outputs": [],
   "source": [
    "from statsmodels.tsa.arima_model import ARIMA\n",
    "import statsmodels.api as sm"
   ]
  },
  {
   "cell_type": "markdown",
   "id": "5bd8c89f",
   "metadata": {},
   "source": [
    "#### Function and modules for data preparation and visualization"
   ]
  },
  {
   "cell_type": "code",
   "execution_count": 5,
   "id": "b2b6d532",
   "metadata": {},
   "outputs": [],
   "source": [
    "# pandas, pandas_datareader, numpy and matplotlib\n",
    "import numpy as np\n",
    "import pandas as pd\n",
    "import pandas_datareader.data as web\n",
    "from matplotlib import pyplot\n",
    "from pandas.plotting import scatter_matrix\n",
    "import seaborn as sns\n",
    "from sklearn.preprocessing import StandardScaler\n",
    "from pandas.plotting import scatter_matrix\n",
    "from statsmodels.graphics.tsaplots import plot_acf"
   ]
  },
  {
   "cell_type": "markdown",
   "id": "26575e1e",
   "metadata": {},
   "source": [
    "### Loading the Data"
   ]
  },
  {
   "cell_type": "code",
   "execution_count": 6,
   "id": "701bd842",
   "metadata": {},
   "outputs": [],
   "source": [
    "stk_tickers = ['MSFT', 'IBM', 'GOOGL']\n",
    "ccy_tickers = ['DEXJPUS', 'DEXUSUK']     \n",
    "idx_tickers = ['SP500', 'DJIA', 'VIXCLS']\n",
    "\n",
    "stk_data = web.DataReader(stk_tickers, 'yahoo')\n",
    "ccy_data = web.DataReader(ccy_tickers, 'fred')\n",
    "idx_data = web.DataReader(idx_tickers, 'fred')"
   ]
  },
  {
   "cell_type": "code",
   "execution_count": 7,
   "id": "af772150",
   "metadata": {},
   "outputs": [],
   "source": [
    "return_period = 5\n",
    "Y = np.log(stk_data.loc[:, ('Adj Close', 'MSFT')]).diff(return_period).\\\n",
    "shift(-return_period)\n",
    "Y.name = Y.name[-1]+'_pred'\n",
    "\n",
    "X1 = np.log(stk_data.loc[:, ('Adj Close', ('GOOGL', 'IBM'))]).diff(return_period)\n",
    "X1.columns = X1.columns.droplevel()\n",
    "X2 = np.log(ccy_data).diff(return_period)\n",
    "X3 = np.log(idx_data).diff(return_period)\n",
    "\n",
    "\n",
    "X4 = pd.concat([np.log(stk_data.loc[:, ('Adj Close', 'MSFT')]).diff(i) \\\n",
    "for i in [return_period, return_period*3,\\\n",
    "return_period*6, return_period*12]], axis=1).dropna() \n",
    "X4.columns = ['MSFT_DT', 'MSFT_3DT', 'MSFT_6DT', 'MSFT_12DT']\n",
    "\n",
    "X = pd.concat([X1, X2, X3, X4], axis=1)\n",
    "\n",
    "dataset = pd.concat([Y, X], axis=1).dropna().iloc[::return_period, :]\n",
    "Y = dataset.loc[:, Y.name]\n",
    "X = dataset.loc[:, X.columns]"
   ]
  },
  {
   "cell_type": "code",
   "execution_count": 8,
   "id": "9856c066",
   "metadata": {},
   "outputs": [
    {
     "data": {
      "text/html": [
       "<div>\n",
       "<style scoped>\n",
       "    .dataframe tbody tr th:only-of-type {\n",
       "        vertical-align: middle;\n",
       "    }\n",
       "\n",
       "    .dataframe tbody tr th {\n",
       "        vertical-align: top;\n",
       "    }\n",
       "\n",
       "    .dataframe thead th {\n",
       "        text-align: right;\n",
       "    }\n",
       "</style>\n",
       "<table border=\"1\" class=\"dataframe\">\n",
       "  <thead>\n",
       "    <tr style=\"text-align: right;\">\n",
       "      <th></th>\n",
       "      <th>MSFT_pred</th>\n",
       "      <th>GOOGL</th>\n",
       "      <th>IBM</th>\n",
       "      <th>DEXJPUS</th>\n",
       "      <th>DEXUSUK</th>\n",
       "      <th>SP500</th>\n",
       "      <th>DJIA</th>\n",
       "      <th>VIXCLS</th>\n",
       "      <th>MSFT_DT</th>\n",
       "      <th>MSFT_3DT</th>\n",
       "      <th>MSFT_6DT</th>\n",
       "      <th>MSFT_12DT</th>\n",
       "    </tr>\n",
       "  </thead>\n",
       "  <tbody>\n",
       "    <tr>\n",
       "      <th>2018-02-09</th>\n",
       "      <td>0.047095</td>\n",
       "      <td>-0.067383</td>\n",
       "      <td>-0.051932</td>\n",
       "      <td>-0.017913</td>\n",
       "      <td>-0.023783</td>\n",
       "      <td>-0.053000</td>\n",
       "      <td>-0.053524</td>\n",
       "      <td>0.518078</td>\n",
       "      <td>-0.040014</td>\n",
       "      <td>-0.020430</td>\n",
       "      <td>0.028411</td>\n",
       "      <td>0.054407</td>\n",
       "    </tr>\n",
       "    <tr>\n",
       "      <th>2018-02-16</th>\n",
       "      <td>0.036499</td>\n",
       "      <td>0.045979</td>\n",
       "      <td>0.043646</td>\n",
       "      <td>-0.021815</td>\n",
       "      <td>0.018744</td>\n",
       "      <td>0.042112</td>\n",
       "      <td>0.041636</td>\n",
       "      <td>-0.401002</td>\n",
       "      <td>0.047095</td>\n",
       "      <td>-0.017458</td>\n",
       "      <td>0.059303</td>\n",
       "      <td>0.113313</td>\n",
       "    </tr>\n",
       "    <tr>\n",
       "      <th>2018-02-27</th>\n",
       "      <td>-0.009386</td>\n",
       "      <td>0.012534</td>\n",
       "      <td>0.008919</td>\n",
       "      <td>0.002236</td>\n",
       "      <td>-0.008236</td>\n",
       "      <td>0.010263</td>\n",
       "      <td>0.017679</td>\n",
       "      <td>-0.102667</td>\n",
       "      <td>0.015836</td>\n",
       "      <td>0.072770</td>\n",
       "      <td>0.054751</td>\n",
       "      <td>0.127178</td>\n",
       "    </tr>\n",
       "    <tr>\n",
       "      <th>2018-03-06</th>\n",
       "      <td>0.011613</td>\n",
       "      <td>-0.014975</td>\n",
       "      <td>-0.005316</td>\n",
       "      <td>-0.013490</td>\n",
       "      <td>-0.001439</td>\n",
       "      <td>-0.005906</td>\n",
       "      <td>-0.020914</td>\n",
       "      <td>-0.012449</td>\n",
       "      <td>-0.009386</td>\n",
       "      <td>0.050625</td>\n",
       "      <td>0.023180</td>\n",
       "      <td>0.124534</td>\n",
       "    </tr>\n",
       "    <tr>\n",
       "      <th>2018-03-13</th>\n",
       "      <td>-0.013651</td>\n",
       "      <td>0.034821</td>\n",
       "      <td>0.022855</td>\n",
       "      <td>0.005737</td>\n",
       "      <td>0.007247</td>\n",
       "      <td>0.013540</td>\n",
       "      <td>0.004927</td>\n",
       "      <td>-0.115946</td>\n",
       "      <td>0.011613</td>\n",
       "      <td>0.018063</td>\n",
       "      <td>0.009890</td>\n",
       "      <td>0.105573</td>\n",
       "    </tr>\n",
       "  </tbody>\n",
       "</table>\n",
       "</div>"
      ],
      "text/plain": [
       "            MSFT_pred     GOOGL       IBM   DEXJPUS   DEXUSUK     SP500  \\\n",
       "2018-02-09   0.047095 -0.067383 -0.051932 -0.017913 -0.023783 -0.053000   \n",
       "2018-02-16   0.036499  0.045979  0.043646 -0.021815  0.018744  0.042112   \n",
       "2018-02-27  -0.009386  0.012534  0.008919  0.002236 -0.008236  0.010263   \n",
       "2018-03-06   0.011613 -0.014975 -0.005316 -0.013490 -0.001439 -0.005906   \n",
       "2018-03-13  -0.013651  0.034821  0.022855  0.005737  0.007247  0.013540   \n",
       "\n",
       "                DJIA    VIXCLS   MSFT_DT  MSFT_3DT  MSFT_6DT  MSFT_12DT  \n",
       "2018-02-09 -0.053524  0.518078 -0.040014 -0.020430  0.028411   0.054407  \n",
       "2018-02-16  0.041636 -0.401002  0.047095 -0.017458  0.059303   0.113313  \n",
       "2018-02-27  0.017679 -0.102667  0.015836  0.072770  0.054751   0.127178  \n",
       "2018-03-06 -0.020914 -0.012449 -0.009386  0.050625  0.023180   0.124534  \n",
       "2018-03-13  0.004927 -0.115946  0.011613  0.018063  0.009890   0.105573  "
      ]
     },
     "execution_count": 8,
     "metadata": {},
     "output_type": "execute_result"
    }
   ],
   "source": [
    "dataset.head()"
   ]
  },
  {
   "cell_type": "code",
   "execution_count": null,
   "id": "c4b1d67c",
   "metadata": {},
   "outputs": [],
   "source": []
  }
 ],
 "metadata": {
  "kernelspec": {
   "display_name": "Python 3 (ipykernel)",
   "language": "python",
   "name": "python3"
  },
  "language_info": {
   "codemirror_mode": {
    "name": "ipython",
    "version": 3
   },
   "file_extension": ".py",
   "mimetype": "text/x-python",
   "name": "python",
   "nbconvert_exporter": "python",
   "pygments_lexer": "ipython3",
   "version": "3.9.13"
  }
 },
 "nbformat": 4,
 "nbformat_minor": 5
}
